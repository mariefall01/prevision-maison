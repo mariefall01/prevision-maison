{
 "cells": [
  {
   "cell_type": "code",
   "execution_count": 13,
   "metadata": {},
   "outputs": [],
   "source": [
    "import numpy as np\n",
    "import pandas as pd\n",
    "import matplotlib.pyplot as plt"
   ]
  },
  {
   "cell_type": "code",
   "execution_count": 14,
   "metadata": {},
   "outputs": [],
   "source": [
    "df = pd.read_csv('Cours Pandas/input/rechauffement.csv')"
   ]
  },
  {
   "cell_type": "code",
   "execution_count": 15,
   "metadata": {},
   "outputs": [
    {
     "data": {
      "text/html": [
       "<div>\n",
       "<style scoped>\n",
       "    .dataframe tbody tr th:only-of-type {\n",
       "        vertical-align: middle;\n",
       "    }\n",
       "\n",
       "    .dataframe tbody tr th {\n",
       "        vertical-align: top;\n",
       "    }\n",
       "\n",
       "    .dataframe thead th {\n",
       "        text-align: right;\n",
       "    }\n",
       "</style>\n",
       "<table border=\"1\" class=\"dataframe\">\n",
       "  <thead>\n",
       "    <tr style=\"text-align: right;\">\n",
       "      <th></th>\n",
       "      <th>Unnamed: 0</th>\n",
       "      <th>INSEE commune</th>\n",
       "      <th>Commune</th>\n",
       "      <th>Agriculture</th>\n",
       "      <th>Autres transports</th>\n",
       "      <th>Autres transports international</th>\n",
       "      <th>CO2 biomasse hors-total</th>\n",
       "      <th>Déchets</th>\n",
       "      <th>Energie</th>\n",
       "      <th>Industrie hors-énergie</th>\n",
       "      <th>Résidentiel</th>\n",
       "      <th>Routier</th>\n",
       "      <th>Tertiaire</th>\n",
       "    </tr>\n",
       "  </thead>\n",
       "  <tbody>\n",
       "    <tr>\n",
       "      <td>0</td>\n",
       "      <td>0</td>\n",
       "      <td>01001</td>\n",
       "      <td>L'ABERGEMENT-CLEMENCIAT</td>\n",
       "      <td>3711.425991</td>\n",
       "      <td>NaN</td>\n",
       "      <td>NaN</td>\n",
       "      <td>432.751835</td>\n",
       "      <td>101.430476</td>\n",
       "      <td>2.354558</td>\n",
       "      <td>6.911213</td>\n",
       "      <td>309.358195</td>\n",
       "      <td>793.156501</td>\n",
       "      <td>367.036172</td>\n",
       "    </tr>\n",
       "    <tr>\n",
       "      <td>1</td>\n",
       "      <td>1</td>\n",
       "      <td>01002</td>\n",
       "      <td>L'ABERGEMENT-DE-VAREY</td>\n",
       "      <td>475.330205</td>\n",
       "      <td>NaN</td>\n",
       "      <td>NaN</td>\n",
       "      <td>140.741660</td>\n",
       "      <td>140.675439</td>\n",
       "      <td>2.354558</td>\n",
       "      <td>6.911213</td>\n",
       "      <td>104.866444</td>\n",
       "      <td>348.997893</td>\n",
       "      <td>112.934207</td>\n",
       "    </tr>\n",
       "    <tr>\n",
       "      <td>2</td>\n",
       "      <td>2</td>\n",
       "      <td>01004</td>\n",
       "      <td>AMBERIEU-EN-BUGEY</td>\n",
       "      <td>499.043526</td>\n",
       "      <td>212.577909</td>\n",
       "      <td>NaN</td>\n",
       "      <td>10313.446520</td>\n",
       "      <td>5314.314445</td>\n",
       "      <td>998.332482</td>\n",
       "      <td>2930.354461</td>\n",
       "      <td>16616.822530</td>\n",
       "      <td>15642.420310</td>\n",
       "      <td>10732.376930</td>\n",
       "    </tr>\n",
       "    <tr>\n",
       "      <td>3</td>\n",
       "      <td>3</td>\n",
       "      <td>01005</td>\n",
       "      <td>AMBERIEUX-EN-DOMBES</td>\n",
       "      <td>1859.160954</td>\n",
       "      <td>NaN</td>\n",
       "      <td>NaN</td>\n",
       "      <td>1144.429311</td>\n",
       "      <td>216.217508</td>\n",
       "      <td>94.182310</td>\n",
       "      <td>276.448534</td>\n",
       "      <td>663.683146</td>\n",
       "      <td>1756.341319</td>\n",
       "      <td>782.404357</td>\n",
       "    </tr>\n",
       "    <tr>\n",
       "      <td>4</td>\n",
       "      <td>4</td>\n",
       "      <td>01006</td>\n",
       "      <td>AMBLEON</td>\n",
       "      <td>448.966808</td>\n",
       "      <td>NaN</td>\n",
       "      <td>NaN</td>\n",
       "      <td>77.033834</td>\n",
       "      <td>48.401549</td>\n",
       "      <td>NaN</td>\n",
       "      <td>NaN</td>\n",
       "      <td>43.714019</td>\n",
       "      <td>398.786800</td>\n",
       "      <td>51.681756</td>\n",
       "    </tr>\n",
       "    <tr>\n",
       "      <td>...</td>\n",
       "      <td>...</td>\n",
       "      <td>...</td>\n",
       "      <td>...</td>\n",
       "      <td>...</td>\n",
       "      <td>...</td>\n",
       "      <td>...</td>\n",
       "      <td>...</td>\n",
       "      <td>...</td>\n",
       "      <td>...</td>\n",
       "      <td>...</td>\n",
       "      <td>...</td>\n",
       "      <td>...</td>\n",
       "      <td>...</td>\n",
       "    </tr>\n",
       "    <tr>\n",
       "      <td>35793</td>\n",
       "      <td>35793</td>\n",
       "      <td>95676</td>\n",
       "      <td>VILLERS-EN-ARTHIES</td>\n",
       "      <td>1628.065094</td>\n",
       "      <td>NaN</td>\n",
       "      <td>NaN</td>\n",
       "      <td>165.045396</td>\n",
       "      <td>65.063617</td>\n",
       "      <td>11.772789</td>\n",
       "      <td>34.556067</td>\n",
       "      <td>176.098160</td>\n",
       "      <td>309.627908</td>\n",
       "      <td>235.439109</td>\n",
       "    </tr>\n",
       "    <tr>\n",
       "      <td>35794</td>\n",
       "      <td>35794</td>\n",
       "      <td>95678</td>\n",
       "      <td>VILLIERS-ADAM</td>\n",
       "      <td>698.630772</td>\n",
       "      <td>NaN</td>\n",
       "      <td>NaN</td>\n",
       "      <td>1331.126598</td>\n",
       "      <td>111.480954</td>\n",
       "      <td>2.354558</td>\n",
       "      <td>6.911213</td>\n",
       "      <td>1395.529811</td>\n",
       "      <td>18759.370070</td>\n",
       "      <td>403.404815</td>\n",
       "    </tr>\n",
       "    <tr>\n",
       "      <td>35795</td>\n",
       "      <td>35795</td>\n",
       "      <td>95680</td>\n",
       "      <td>VILLIERS-LE-BEL</td>\n",
       "      <td>107.564967</td>\n",
       "      <td>NaN</td>\n",
       "      <td>NaN</td>\n",
       "      <td>8367.174532</td>\n",
       "      <td>225.622903</td>\n",
       "      <td>534.484607</td>\n",
       "      <td>1568.845431</td>\n",
       "      <td>22613.830250</td>\n",
       "      <td>12217.122400</td>\n",
       "      <td>13849.512000</td>\n",
       "    </tr>\n",
       "    <tr>\n",
       "      <td>35796</td>\n",
       "      <td>35796</td>\n",
       "      <td>95682</td>\n",
       "      <td>VILLIERS-LE-SEC</td>\n",
       "      <td>1090.890170</td>\n",
       "      <td>NaN</td>\n",
       "      <td>NaN</td>\n",
       "      <td>326.748418</td>\n",
       "      <td>108.969749</td>\n",
       "      <td>2.354558</td>\n",
       "      <td>6.911213</td>\n",
       "      <td>67.235487</td>\n",
       "      <td>4663.232127</td>\n",
       "      <td>85.657725</td>\n",
       "    </tr>\n",
       "    <tr>\n",
       "      <td>35797</td>\n",
       "      <td>35797</td>\n",
       "      <td>95690</td>\n",
       "      <td>WY-DIT-JOLI-VILLAGE</td>\n",
       "      <td>1495.103542</td>\n",
       "      <td>NaN</td>\n",
       "      <td>NaN</td>\n",
       "      <td>125.236417</td>\n",
       "      <td>97.728612</td>\n",
       "      <td>4.709115</td>\n",
       "      <td>13.822427</td>\n",
       "      <td>117.450851</td>\n",
       "      <td>504.400972</td>\n",
       "      <td>147.867245</td>\n",
       "    </tr>\n",
       "  </tbody>\n",
       "</table>\n",
       "<p>35798 rows × 13 columns</p>\n",
       "</div>"
      ],
      "text/plain": [
       "       Unnamed: 0 INSEE commune                  Commune  Agriculture  \\\n",
       "0               0         01001  L'ABERGEMENT-CLEMENCIAT  3711.425991   \n",
       "1               1         01002    L'ABERGEMENT-DE-VAREY   475.330205   \n",
       "2               2         01004        AMBERIEU-EN-BUGEY   499.043526   \n",
       "3               3         01005      AMBERIEUX-EN-DOMBES  1859.160954   \n",
       "4               4         01006                  AMBLEON   448.966808   \n",
       "...           ...           ...                      ...          ...   \n",
       "35793       35793         95676       VILLERS-EN-ARTHIES  1628.065094   \n",
       "35794       35794         95678            VILLIERS-ADAM   698.630772   \n",
       "35795       35795         95680          VILLIERS-LE-BEL   107.564967   \n",
       "35796       35796         95682          VILLIERS-LE-SEC  1090.890170   \n",
       "35797       35797         95690      WY-DIT-JOLI-VILLAGE  1495.103542   \n",
       "\n",
       "       Autres transports  Autres transports international  \\\n",
       "0                    NaN                              NaN   \n",
       "1                    NaN                              NaN   \n",
       "2             212.577909                              NaN   \n",
       "3                    NaN                              NaN   \n",
       "4                    NaN                              NaN   \n",
       "...                  ...                              ...   \n",
       "35793                NaN                              NaN   \n",
       "35794                NaN                              NaN   \n",
       "35795                NaN                              NaN   \n",
       "35796                NaN                              NaN   \n",
       "35797                NaN                              NaN   \n",
       "\n",
       "       CO2 biomasse hors-total      Déchets     Energie  \\\n",
       "0                   432.751835   101.430476    2.354558   \n",
       "1                   140.741660   140.675439    2.354558   \n",
       "2                 10313.446520  5314.314445  998.332482   \n",
       "3                  1144.429311   216.217508   94.182310   \n",
       "4                    77.033834    48.401549         NaN   \n",
       "...                        ...          ...         ...   \n",
       "35793               165.045396    65.063617   11.772789   \n",
       "35794              1331.126598   111.480954    2.354558   \n",
       "35795              8367.174532   225.622903  534.484607   \n",
       "35796               326.748418   108.969749    2.354558   \n",
       "35797               125.236417    97.728612    4.709115   \n",
       "\n",
       "       Industrie hors-énergie   Résidentiel       Routier     Tertiaire  \n",
       "0                    6.911213    309.358195    793.156501    367.036172  \n",
       "1                    6.911213    104.866444    348.997893    112.934207  \n",
       "2                 2930.354461  16616.822530  15642.420310  10732.376930  \n",
       "3                  276.448534    663.683146   1756.341319    782.404357  \n",
       "4                         NaN     43.714019    398.786800     51.681756  \n",
       "...                       ...           ...           ...           ...  \n",
       "35793               34.556067    176.098160    309.627908    235.439109  \n",
       "35794                6.911213   1395.529811  18759.370070    403.404815  \n",
       "35795             1568.845431  22613.830250  12217.122400  13849.512000  \n",
       "35796                6.911213     67.235487   4663.232127     85.657725  \n",
       "35797               13.822427    117.450851    504.400972    147.867245  \n",
       "\n",
       "[35798 rows x 13 columns]"
      ]
     },
     "execution_count": 15,
     "metadata": {},
     "output_type": "execute_result"
    }
   ],
   "source": [
    "df"
   ]
  },
  {
   "cell_type": "code",
   "execution_count": 18,
   "metadata": {},
   "outputs": [
    {
     "data": {
      "text/plain": [
       "33338"
      ]
     },
     "execution_count": 18,
     "metadata": {},
     "output_type": "execute_result"
    }
   ],
   "source": [
    "df['Commune'].nunique()"
   ]
  },
  {
   "cell_type": "code",
   "execution_count": 19,
   "metadata": {},
   "outputs": [
    {
     "data": {
      "text/plain": [
       "array([\"L'ABERGEMENT-CLEMENCIAT\", \"L'ABERGEMENT-DE-VAREY\",\n",
       "       'AMBERIEU-EN-BUGEY', ..., 'VILLIERS-ADAM', 'VILLIERS-LE-BEL',\n",
       "       'WY-DIT-JOLI-VILLAGE'], dtype=object)"
      ]
     },
     "execution_count": 19,
     "metadata": {},
     "output_type": "execute_result"
    }
   ],
   "source": [
    "df['Commune'].unique()"
   ]
  },
  {
   "cell_type": "code",
   "execution_count": 20,
   "metadata": {},
   "outputs": [
    {
     "data": {
      "text/html": [
       "<div>\n",
       "<style scoped>\n",
       "    .dataframe tbody tr th:only-of-type {\n",
       "        vertical-align: middle;\n",
       "    }\n",
       "\n",
       "    .dataframe tbody tr th {\n",
       "        vertical-align: top;\n",
       "    }\n",
       "\n",
       "    .dataframe thead th {\n",
       "        text-align: right;\n",
       "    }\n",
       "</style>\n",
       "<table border=\"1\" class=\"dataframe\">\n",
       "  <thead>\n",
       "    <tr style=\"text-align: right;\">\n",
       "      <th></th>\n",
       "      <th>Unnamed: 0</th>\n",
       "      <th>Agriculture</th>\n",
       "      <th>Autres transports</th>\n",
       "      <th>Autres transports international</th>\n",
       "      <th>CO2 biomasse hors-total</th>\n",
       "      <th>Déchets</th>\n",
       "      <th>Energie</th>\n",
       "      <th>Industrie hors-énergie</th>\n",
       "      <th>Résidentiel</th>\n",
       "      <th>Routier</th>\n",
       "      <th>Tertiaire</th>\n",
       "    </tr>\n",
       "  </thead>\n",
       "  <tbody>\n",
       "    <tr>\n",
       "      <td>count</td>\n",
       "      <td>35798.000000</td>\n",
       "      <td>35736.000000</td>\n",
       "      <td>9979.000000</td>\n",
       "      <td>2.891000e+03</td>\n",
       "      <td>35798.000000</td>\n",
       "      <td>35792.000000</td>\n",
       "      <td>3.449000e+04</td>\n",
       "      <td>3.449000e+04</td>\n",
       "      <td>35792.000000</td>\n",
       "      <td>35778.000000</td>\n",
       "      <td>35798.000000</td>\n",
       "    </tr>\n",
       "    <tr>\n",
       "      <td>mean</td>\n",
       "      <td>17898.500000</td>\n",
       "      <td>2459.975760</td>\n",
       "      <td>654.919940</td>\n",
       "      <td>7.692345e+03</td>\n",
       "      <td>1774.381550</td>\n",
       "      <td>410.806329</td>\n",
       "      <td>6.625698e+02</td>\n",
       "      <td>2.423128e+03</td>\n",
       "      <td>1783.677872</td>\n",
       "      <td>3535.501245</td>\n",
       "      <td>1105.165915</td>\n",
       "    </tr>\n",
       "    <tr>\n",
       "      <td>std</td>\n",
       "      <td>10334.136805</td>\n",
       "      <td>2926.957701</td>\n",
       "      <td>9232.816833</td>\n",
       "      <td>1.137643e+05</td>\n",
       "      <td>7871.341922</td>\n",
       "      <td>4122.472608</td>\n",
       "      <td>2.645571e+04</td>\n",
       "      <td>5.670374e+04</td>\n",
       "      <td>8915.902378</td>\n",
       "      <td>9663.156628</td>\n",
       "      <td>5164.182507</td>\n",
       "    </tr>\n",
       "    <tr>\n",
       "      <td>min</td>\n",
       "      <td>0.000000</td>\n",
       "      <td>0.003432</td>\n",
       "      <td>0.000204</td>\n",
       "      <td>3.972950e-04</td>\n",
       "      <td>3.758088</td>\n",
       "      <td>0.132243</td>\n",
       "      <td>2.354558e+00</td>\n",
       "      <td>1.052998e+00</td>\n",
       "      <td>1.027266</td>\n",
       "      <td>0.555092</td>\n",
       "      <td>0.000000</td>\n",
       "    </tr>\n",
       "    <tr>\n",
       "      <td>25%</td>\n",
       "      <td>8949.250000</td>\n",
       "      <td>797.682631</td>\n",
       "      <td>52.560412</td>\n",
       "      <td>1.005097e+01</td>\n",
       "      <td>197.951108</td>\n",
       "      <td>25.655166</td>\n",
       "      <td>2.354558e+00</td>\n",
       "      <td>6.911213e+00</td>\n",
       "      <td>96.052911</td>\n",
       "      <td>419.700460</td>\n",
       "      <td>94.749885</td>\n",
       "    </tr>\n",
       "    <tr>\n",
       "      <td>50%</td>\n",
       "      <td>17898.500000</td>\n",
       "      <td>1559.381286</td>\n",
       "      <td>106.795928</td>\n",
       "      <td>1.992434e+01</td>\n",
       "      <td>424.849988</td>\n",
       "      <td>54.748654</td>\n",
       "      <td>4.709115e+00</td>\n",
       "      <td>1.382243e+01</td>\n",
       "      <td>227.091193</td>\n",
       "      <td>1070.895593</td>\n",
       "      <td>216.297718</td>\n",
       "    </tr>\n",
       "    <tr>\n",
       "      <td>75%</td>\n",
       "      <td>26847.750000</td>\n",
       "      <td>3007.883903</td>\n",
       "      <td>237.341501</td>\n",
       "      <td>3.298311e+01</td>\n",
       "      <td>1094.749826</td>\n",
       "      <td>110.820941</td>\n",
       "      <td>5.180027e+01</td>\n",
       "      <td>1.520467e+02</td>\n",
       "      <td>749.469293</td>\n",
       "      <td>3098.612157</td>\n",
       "      <td>576.155869</td>\n",
       "    </tr>\n",
       "    <tr>\n",
       "      <td>max</td>\n",
       "      <td>35797.000000</td>\n",
       "      <td>98949.317760</td>\n",
       "      <td>513140.971700</td>\n",
       "      <td>3.303394e+06</td>\n",
       "      <td>576394.181200</td>\n",
       "      <td>275500.374400</td>\n",
       "      <td>2.535858e+06</td>\n",
       "      <td>6.765119e+06</td>\n",
       "      <td>410675.902000</td>\n",
       "      <td>586054.672800</td>\n",
       "      <td>288175.400100</td>\n",
       "    </tr>\n",
       "  </tbody>\n",
       "</table>\n",
       "</div>"
      ],
      "text/plain": [
       "         Unnamed: 0   Agriculture  Autres transports  \\\n",
       "count  35798.000000  35736.000000        9979.000000   \n",
       "mean   17898.500000   2459.975760         654.919940   \n",
       "std    10334.136805   2926.957701        9232.816833   \n",
       "min        0.000000      0.003432           0.000204   \n",
       "25%     8949.250000    797.682631          52.560412   \n",
       "50%    17898.500000   1559.381286         106.795928   \n",
       "75%    26847.750000   3007.883903         237.341501   \n",
       "max    35797.000000  98949.317760      513140.971700   \n",
       "\n",
       "       Autres transports international  CO2 biomasse hors-total  \\\n",
       "count                     2.891000e+03             35798.000000   \n",
       "mean                      7.692345e+03              1774.381550   \n",
       "std                       1.137643e+05              7871.341922   \n",
       "min                       3.972950e-04                 3.758088   \n",
       "25%                       1.005097e+01               197.951108   \n",
       "50%                       1.992434e+01               424.849988   \n",
       "75%                       3.298311e+01              1094.749826   \n",
       "max                       3.303394e+06            576394.181200   \n",
       "\n",
       "             Déchets       Energie  Industrie hors-énergie    Résidentiel  \\\n",
       "count   35792.000000  3.449000e+04            3.449000e+04   35792.000000   \n",
       "mean      410.806329  6.625698e+02            2.423128e+03    1783.677872   \n",
       "std      4122.472608  2.645571e+04            5.670374e+04    8915.902378   \n",
       "min         0.132243  2.354558e+00            1.052998e+00       1.027266   \n",
       "25%        25.655166  2.354558e+00            6.911213e+00      96.052911   \n",
       "50%        54.748654  4.709115e+00            1.382243e+01     227.091193   \n",
       "75%       110.820941  5.180027e+01            1.520467e+02     749.469293   \n",
       "max    275500.374400  2.535858e+06            6.765119e+06  410675.902000   \n",
       "\n",
       "             Routier      Tertiaire  \n",
       "count   35778.000000   35798.000000  \n",
       "mean     3535.501245    1105.165915  \n",
       "std      9663.156628    5164.182507  \n",
       "min         0.555092       0.000000  \n",
       "25%       419.700460      94.749885  \n",
       "50%      1070.895593     216.297718  \n",
       "75%      3098.612157     576.155869  \n",
       "max    586054.672800  288175.400100  "
      ]
     },
     "execution_count": 20,
     "metadata": {},
     "output_type": "execute_result"
    }
   ],
   "source": [
    "df.describe()"
   ]
  },
  {
   "cell_type": "code",
   "execution_count": 22,
   "metadata": {},
   "outputs": [
    {
     "data": {
      "text/plain": [
       "2459.975759687285"
      ]
     },
     "execution_count": 22,
     "metadata": {},
     "output_type": "execute_result"
    }
   ],
   "source": [
    "df['Agriculture'].mean()"
   ]
  },
  {
   "cell_type": "code",
   "execution_count": 23,
   "metadata": {},
   "outputs": [
    {
     "data": {
      "text/plain": [
       "0.003431569"
      ]
     },
     "execution_count": 23,
     "metadata": {},
     "output_type": "execute_result"
    }
   ],
   "source": [
    "df['Agriculture'].min()"
   ]
  },
  {
   "cell_type": "code",
   "execution_count": 24,
   "metadata": {},
   "outputs": [
    {
     "data": {
      "text/plain": [
       "98949.31776"
      ]
     },
     "execution_count": 24,
     "metadata": {},
     "output_type": "execute_result"
    }
   ],
   "source": [
    "df['Agriculture'].max()"
   ]
  },
  {
   "cell_type": "code",
   "execution_count": 25,
   "metadata": {},
   "outputs": [
    {
     "data": {
      "text/plain": [
       "35736"
      ]
     },
     "execution_count": 25,
     "metadata": {},
     "output_type": "execute_result"
    }
   ],
   "source": [
    "df['Agriculture'].count()"
   ]
  },
  {
   "cell_type": "code",
   "execution_count": 27,
   "metadata": {},
   "outputs": [
    {
     "data": {
      "text/plain": [
       "62"
      ]
     },
     "execution_count": 27,
     "metadata": {},
     "output_type": "execute_result"
    }
   ],
   "source": [
    "df['Agriculture'].isnull().sum()"
   ]
  },
  {
   "cell_type": "code",
   "execution_count": 28,
   "metadata": {},
   "outputs": [
    {
     "data": {
      "text/plain": [
       "Unnamed: 0                             0\n",
       "INSEE commune                          0\n",
       "Commune                                0\n",
       "Agriculture                           62\n",
       "Autres transports                  25819\n",
       "Autres transports international    32907\n",
       "CO2 biomasse hors-total                0\n",
       "Déchets                                6\n",
       "Energie                             1308\n",
       "Industrie hors-énergie              1308\n",
       "Résidentiel                            6\n",
       "Routier                               20\n",
       "Tertiaire                              0\n",
       "dtype: int64"
      ]
     },
     "execution_count": 28,
     "metadata": {},
     "output_type": "execute_result"
    }
   ],
   "source": [
    "df.isnull().sum()"
   ]
  },
  {
   "cell_type": "code",
   "execution_count": 30,
   "metadata": {},
   "outputs": [
    {
     "data": {
      "text/plain": [
       "(35798, 13)"
      ]
     },
     "execution_count": 30,
     "metadata": {},
     "output_type": "execute_result"
    }
   ],
   "source": [
    "df.shape"
   ]
  },
  {
   "cell_type": "code",
   "execution_count": 31,
   "metadata": {},
   "outputs": [
    {
     "name": "stdout",
     "output_type": "stream",
     "text": [
      "<class 'pandas.core.frame.DataFrame'>\n",
      "RangeIndex: 35798 entries, 0 to 35797\n",
      "Data columns (total 13 columns):\n",
      "Unnamed: 0                         35798 non-null int64\n",
      "INSEE commune                      35798 non-null object\n",
      "Commune                            35798 non-null object\n",
      "Agriculture                        35736 non-null float64\n",
      "Autres transports                  9979 non-null float64\n",
      "Autres transports international    2891 non-null float64\n",
      "CO2 biomasse hors-total            35798 non-null float64\n",
      "Déchets                            35792 non-null float64\n",
      "Energie                            34490 non-null float64\n",
      "Industrie hors-énergie             34490 non-null float64\n",
      "Résidentiel                        35792 non-null float64\n",
      "Routier                            35778 non-null float64\n",
      "Tertiaire                          35798 non-null float64\n",
      "dtypes: float64(10), int64(1), object(2)\n",
      "memory usage: 3.6+ MB\n"
     ]
    }
   ],
   "source": [
    "df.info()"
   ]
  },
  {
   "cell_type": "code",
   "execution_count": 32,
   "metadata": {},
   "outputs": [
    {
     "data": {
      "text/html": [
       "<div>\n",
       "<style scoped>\n",
       "    .dataframe tbody tr th:only-of-type {\n",
       "        vertical-align: middle;\n",
       "    }\n",
       "\n",
       "    .dataframe tbody tr th {\n",
       "        vertical-align: top;\n",
       "    }\n",
       "\n",
       "    .dataframe thead th {\n",
       "        text-align: right;\n",
       "    }\n",
       "</style>\n",
       "<table border=\"1\" class=\"dataframe\">\n",
       "  <thead>\n",
       "    <tr style=\"text-align: right;\">\n",
       "      <th></th>\n",
       "      <th>Unnamed: 0</th>\n",
       "      <th>INSEE commune</th>\n",
       "      <th>Commune</th>\n",
       "      <th>Agriculture</th>\n",
       "      <th>Autres transports</th>\n",
       "      <th>Autres transports international</th>\n",
       "      <th>CO2 biomasse hors-total</th>\n",
       "      <th>Déchets</th>\n",
       "      <th>Energie</th>\n",
       "      <th>Industrie hors-énergie</th>\n",
       "      <th>Résidentiel</th>\n",
       "      <th>Routier</th>\n",
       "      <th>Tertiaire</th>\n",
       "    </tr>\n",
       "  </thead>\n",
       "  <tbody>\n",
       "    <tr>\n",
       "      <td>0</td>\n",
       "      <td>False</td>\n",
       "      <td>False</td>\n",
       "      <td>False</td>\n",
       "      <td>False</td>\n",
       "      <td>True</td>\n",
       "      <td>True</td>\n",
       "      <td>False</td>\n",
       "      <td>False</td>\n",
       "      <td>False</td>\n",
       "      <td>False</td>\n",
       "      <td>False</td>\n",
       "      <td>False</td>\n",
       "      <td>False</td>\n",
       "    </tr>\n",
       "    <tr>\n",
       "      <td>1</td>\n",
       "      <td>False</td>\n",
       "      <td>False</td>\n",
       "      <td>False</td>\n",
       "      <td>False</td>\n",
       "      <td>True</td>\n",
       "      <td>True</td>\n",
       "      <td>False</td>\n",
       "      <td>False</td>\n",
       "      <td>False</td>\n",
       "      <td>False</td>\n",
       "      <td>False</td>\n",
       "      <td>False</td>\n",
       "      <td>False</td>\n",
       "    </tr>\n",
       "    <tr>\n",
       "      <td>2</td>\n",
       "      <td>False</td>\n",
       "      <td>False</td>\n",
       "      <td>False</td>\n",
       "      <td>False</td>\n",
       "      <td>False</td>\n",
       "      <td>True</td>\n",
       "      <td>False</td>\n",
       "      <td>False</td>\n",
       "      <td>False</td>\n",
       "      <td>False</td>\n",
       "      <td>False</td>\n",
       "      <td>False</td>\n",
       "      <td>False</td>\n",
       "    </tr>\n",
       "    <tr>\n",
       "      <td>3</td>\n",
       "      <td>False</td>\n",
       "      <td>False</td>\n",
       "      <td>False</td>\n",
       "      <td>False</td>\n",
       "      <td>True</td>\n",
       "      <td>True</td>\n",
       "      <td>False</td>\n",
       "      <td>False</td>\n",
       "      <td>False</td>\n",
       "      <td>False</td>\n",
       "      <td>False</td>\n",
       "      <td>False</td>\n",
       "      <td>False</td>\n",
       "    </tr>\n",
       "    <tr>\n",
       "      <td>4</td>\n",
       "      <td>False</td>\n",
       "      <td>False</td>\n",
       "      <td>False</td>\n",
       "      <td>False</td>\n",
       "      <td>True</td>\n",
       "      <td>True</td>\n",
       "      <td>False</td>\n",
       "      <td>False</td>\n",
       "      <td>True</td>\n",
       "      <td>True</td>\n",
       "      <td>False</td>\n",
       "      <td>False</td>\n",
       "      <td>False</td>\n",
       "    </tr>\n",
       "    <tr>\n",
       "      <td>...</td>\n",
       "      <td>...</td>\n",
       "      <td>...</td>\n",
       "      <td>...</td>\n",
       "      <td>...</td>\n",
       "      <td>...</td>\n",
       "      <td>...</td>\n",
       "      <td>...</td>\n",
       "      <td>...</td>\n",
       "      <td>...</td>\n",
       "      <td>...</td>\n",
       "      <td>...</td>\n",
       "      <td>...</td>\n",
       "      <td>...</td>\n",
       "    </tr>\n",
       "    <tr>\n",
       "      <td>35793</td>\n",
       "      <td>False</td>\n",
       "      <td>False</td>\n",
       "      <td>False</td>\n",
       "      <td>False</td>\n",
       "      <td>True</td>\n",
       "      <td>True</td>\n",
       "      <td>False</td>\n",
       "      <td>False</td>\n",
       "      <td>False</td>\n",
       "      <td>False</td>\n",
       "      <td>False</td>\n",
       "      <td>False</td>\n",
       "      <td>False</td>\n",
       "    </tr>\n",
       "    <tr>\n",
       "      <td>35794</td>\n",
       "      <td>False</td>\n",
       "      <td>False</td>\n",
       "      <td>False</td>\n",
       "      <td>False</td>\n",
       "      <td>True</td>\n",
       "      <td>True</td>\n",
       "      <td>False</td>\n",
       "      <td>False</td>\n",
       "      <td>False</td>\n",
       "      <td>False</td>\n",
       "      <td>False</td>\n",
       "      <td>False</td>\n",
       "      <td>False</td>\n",
       "    </tr>\n",
       "    <tr>\n",
       "      <td>35795</td>\n",
       "      <td>False</td>\n",
       "      <td>False</td>\n",
       "      <td>False</td>\n",
       "      <td>False</td>\n",
       "      <td>True</td>\n",
       "      <td>True</td>\n",
       "      <td>False</td>\n",
       "      <td>False</td>\n",
       "      <td>False</td>\n",
       "      <td>False</td>\n",
       "      <td>False</td>\n",
       "      <td>False</td>\n",
       "      <td>False</td>\n",
       "    </tr>\n",
       "    <tr>\n",
       "      <td>35796</td>\n",
       "      <td>False</td>\n",
       "      <td>False</td>\n",
       "      <td>False</td>\n",
       "      <td>False</td>\n",
       "      <td>True</td>\n",
       "      <td>True</td>\n",
       "      <td>False</td>\n",
       "      <td>False</td>\n",
       "      <td>False</td>\n",
       "      <td>False</td>\n",
       "      <td>False</td>\n",
       "      <td>False</td>\n",
       "      <td>False</td>\n",
       "    </tr>\n",
       "    <tr>\n",
       "      <td>35797</td>\n",
       "      <td>False</td>\n",
       "      <td>False</td>\n",
       "      <td>False</td>\n",
       "      <td>False</td>\n",
       "      <td>True</td>\n",
       "      <td>True</td>\n",
       "      <td>False</td>\n",
       "      <td>False</td>\n",
       "      <td>False</td>\n",
       "      <td>False</td>\n",
       "      <td>False</td>\n",
       "      <td>False</td>\n",
       "      <td>False</td>\n",
       "    </tr>\n",
       "  </tbody>\n",
       "</table>\n",
       "<p>35798 rows × 13 columns</p>\n",
       "</div>"
      ],
      "text/plain": [
       "       Unnamed: 0  INSEE commune  Commune  Agriculture  Autres transports  \\\n",
       "0           False          False    False        False               True   \n",
       "1           False          False    False        False               True   \n",
       "2           False          False    False        False              False   \n",
       "3           False          False    False        False               True   \n",
       "4           False          False    False        False               True   \n",
       "...           ...            ...      ...          ...                ...   \n",
       "35793       False          False    False        False               True   \n",
       "35794       False          False    False        False               True   \n",
       "35795       False          False    False        False               True   \n",
       "35796       False          False    False        False               True   \n",
       "35797       False          False    False        False               True   \n",
       "\n",
       "       Autres transports international  CO2 biomasse hors-total  Déchets  \\\n",
       "0                                 True                    False    False   \n",
       "1                                 True                    False    False   \n",
       "2                                 True                    False    False   \n",
       "3                                 True                    False    False   \n",
       "4                                 True                    False    False   \n",
       "...                                ...                      ...      ...   \n",
       "35793                             True                    False    False   \n",
       "35794                             True                    False    False   \n",
       "35795                             True                    False    False   \n",
       "35796                             True                    False    False   \n",
       "35797                             True                    False    False   \n",
       "\n",
       "       Energie  Industrie hors-énergie  Résidentiel  Routier  Tertiaire  \n",
       "0        False                   False        False    False      False  \n",
       "1        False                   False        False    False      False  \n",
       "2        False                   False        False    False      False  \n",
       "3        False                   False        False    False      False  \n",
       "4         True                    True        False    False      False  \n",
       "...        ...                     ...          ...      ...        ...  \n",
       "35793    False                   False        False    False      False  \n",
       "35794    False                   False        False    False      False  \n",
       "35795    False                   False        False    False      False  \n",
       "35796    False                   False        False    False      False  \n",
       "35797    False                   False        False    False      False  \n",
       "\n",
       "[35798 rows x 13 columns]"
      ]
     },
     "execution_count": 32,
     "metadata": {},
     "output_type": "execute_result"
    }
   ],
   "source": [
    "df.isna()"
   ]
  },
  {
   "cell_type": "code",
   "execution_count": 33,
   "metadata": {},
   "outputs": [
    {
     "data": {
      "text/plain": [
       "Unnamed: 0                             0\n",
       "INSEE commune                          0\n",
       "Commune                                0\n",
       "Agriculture                           62\n",
       "Autres transports                  25819\n",
       "Autres transports international    32907\n",
       "CO2 biomasse hors-total                0\n",
       "Déchets                                6\n",
       "Energie                             1308\n",
       "Industrie hors-énergie              1308\n",
       "Résidentiel                            6\n",
       "Routier                               20\n",
       "Tertiaire                              0\n",
       "dtype: int64"
      ]
     },
     "execution_count": 33,
     "metadata": {},
     "output_type": "execute_result"
    }
   ],
   "source": [
    "df.isna().sum()"
   ]
  },
  {
   "cell_type": "code",
   "execution_count": 36,
   "metadata": {},
   "outputs": [
    {
     "data": {
      "text/plain": [
       "<matplotlib.axes._subplots.AxesSubplot at 0x17e1311cf88>"
      ]
     },
     "execution_count": 36,
     "metadata": {},
     "output_type": "execute_result"
    },
    {
     "data": {
      "image/png": "[encoded data removed]",
      "text/plain": [
       "<Figure size 432x288 with 1 Axes>"
      ]
     },
     "metadata": {
      "needs_background": "light"
     },
     "output_type": "display_data"
    }
   ],
   "source": [
    "df['Déchets'].plot()"
   ]
  },
  {
   "cell_type": "code",
   "execution_count": 38,
   "metadata": {},
   "outputs": [
    {
     "data": {
      "text/plain": [
       "<matplotlib.axes._subplots.AxesSubplot at 0x17e14dcaf88>"
      ]
     },
     "execution_count": 38,
     "metadata": {},
     "output_type": "execute_result"
    },
    {
     "data": {
      "image/png": "[encoded data removed]",
      "text/plain": [
       "<Figure size 432x288 with 1 Axes>"
      ]
     },
     "metadata": {
      "needs_background": "light"
     },
     "output_type": "display_data"
    }
   ],
   "source": [
    "df['Déchets'].hist()"
   ]
  },
  {
   "cell_type": "code",
   "execution_count": null,
   "metadata": {},
   "outputs": [],
   "source": []
  }
 ],
 "metadata": {
  "kernelspec": {
   "display_name": "Python 3",
   "language": "python",
   "name": "python3"
  },
  "language_info": {
   "codemirror_mode": {
    "name": "ipython",
    "version": 3
   },
   "file_extension": ".py",
   "mimetype": "text/x-python",
   "name": "python",
   "nbconvert_exporter": "python",
   "pygments_lexer": "ipython3",
   "version": "3.7.4"
  }
 },
 "nbformat": 4,
 "nbformat_minor": 2
}
